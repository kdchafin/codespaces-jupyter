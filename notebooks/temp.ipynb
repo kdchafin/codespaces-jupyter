{
 "cells": [
  {
   "cell_type": "code",
   "execution_count": null,
   "id": "3ad09bf6-da12-43bc-a88d-125fb17bd967",
   "metadata": {},
   "outputs": [],
   "source": [
    "import numpy as np\n",
    "import matplotlib.pyplot as plt\n",
    "from sklearn.svm import SVC\n",
    "from sklearn.metrics import accuracy_score"
   ]
  },
  {
   "cell_type": "code",
   "execution_count": null,
   "id": "4f38f20f",
   "metadata": {},
   "outputs": [],
   "source": [
    "class TreeNode:\n",
    "    def __init__(self, is_leaf=False, class_label=None, svm_model=None):\n",
    "        self.is_leaf = is_leaf          # True/False\n",
    "        self.class_label = class_label   # Only for leaves\n",
    "        self.svm_model = svm_model       # Trained SVC for non-leaves\n",
    "        self.left = None                 # \"Below\" boundary child\n",
    "        self.right = None                # \"Above/on\" boundary child"
   ]
  },
  {
   "cell_type": "code",
   "execution_count": null,
   "id": "37ad73de",
   "metadata": {},
   "outputs": [],
   "source": [
    "def generate_combinations(classes):\n",
    "    # Generate 1-class and 2-class combinations\n",
    "    combos = []\n",
    "    for c in classes:\n",
    "        combos.append([c])  # Single class\n",
    "    for i in range(len(classes)):\n",
    "        for j in range(i+1, len(classes)):\n",
    "            combos.append([classes[i], classes[j]])  # Class pairs\n",
    "    return combos"
   ]
  },
  {
   "cell_type": "code",
   "execution_count": null,
   "id": "b94664d4",
   "metadata": {},
   "outputs": [],
   "source": [
    "def calculate_gini(y_left, y_right):\n",
    "    # Calculate weighted Gini impurity\n",
    "    n_left, n_right = len(y_left), len(y_right)\n",
    "    n_total = n_left + n_right\n",
    "    \n",
    "    def _gini(y):\n",
    "        if len(y) == 0: return 0\n",
    "        counts = np.bincount(y)\n",
    "        probs = counts / len(y)\n",
    "        return 1 - np.sum(probs**2)\n",
    "    \n",
    "    return (n_left/n_total)*_gini(y_left) + (n_right/n_total)*_gini(y_right)"
   ]
  },
  {
   "cell_type": "code",
   "execution_count": null,
   "id": "1ebe742c",
   "metadata": {},
   "outputs": [],
   "source": [
    "def predict(node, x):\n",
    "    while not node.is_leaf:\n",
    "        side = node.svm_model.predict([x])[0]  # 0=left, 1=right\n",
    "        node = node.right if side == 1 else node.left\n",
    "    return node.class_label"
   ]
  },
  {
   "cell_type": "code",
   "execution_count": null,
   "id": "e87b8577",
   "metadata": {},
   "outputs": [],
   "source": [
    "def build_tree(X, y, depth=0, max_depth=5, kernel='linear'):\n",
    "    # Stopping conditions\n",
    "    if (depth >= max_depth) or (len(X) < 10) or (len(np.unique(y)) == 1):\n",
    "        majority_class = np.argmax(np.bincount(y))\n",
    "        return TreeNode(is_leaf=True, class_label=majority_class)\n",
    "    \n",
    "    best_gini = float('inf')\n",
    "    best_svm = None\n",
    "    best_mask = None\n",
    "    \n",
    "    # Try all 1-class and 2-class combinations\n",
    "    classes = np.unique(y)\n",
    "    for class_combo in generate_combinations(classes):  # Implement this helper\n",
    "        # Create binary labels: 1=selected class(es), 0=others\n",
    "        y_binary = np.isin(y, class_combo).astype(int)\n",
    "        \n",
    "        # Train SVM\n",
    "        svm = SVC(kernel=kernel).fit(X, y_binary)\n",
    "        \n",
    "        # Evaluate split using Gini index\n",
    "        mask = svm.predict(X) == 1\n",
    "        gini = calculate_gini(y[mask], y[~mask])  # Implement this\n",
    "        \n",
    "        if gini < best_gini:\n",
    "            best_gini, best_svm, best_mask = gini, svm, mask\n",
    "    \n",
    "    # Recursively build subtrees\n",
    "    node = TreeNode(svm_model=best_svm)\n",
    "    node.left = build_tree(X[~best_mask], y[~best_mask], depth+1, max_depth, kernel)\n",
    "    node.right = build_tree(X[best_mask], y[best_mask], depth+1, max_depth, kernel)\n",
    "    return node"
   ]
  }
 ],
 "metadata": {
  "kernelspec": {
   "display_name": "myenv",
   "language": "python",
   "name": "python3"
  },
  "language_info": {
   "codemirror_mode": {
    "name": "ipython",
    "version": 3
   },
   "file_extension": ".py",
   "mimetype": "text/x-python",
   "name": "python",
   "nbconvert_exporter": "python",
   "pygments_lexer": "ipython3",
   "version": "3.10.18"
  }
 },
 "nbformat": 4,
 "nbformat_minor": 5
}
